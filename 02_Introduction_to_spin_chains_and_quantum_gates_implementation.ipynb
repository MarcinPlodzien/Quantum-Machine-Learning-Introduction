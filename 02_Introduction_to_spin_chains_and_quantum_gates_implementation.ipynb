{
 "cells": [
  {
   "cell_type": "markdown",
   "id": "6d21f813",
   "metadata": {},
   "source": [
    "# Implementing quantum gates from scratch: Simulating circuits and qubit gates\n",
    "\n",
    "## Exact representation of spin-1/2 operators on a chain\n",
    "\n",
    "### The starting point is to implement the Pauli spin chain operators on a spin-$1/2$ chain with $L$ spins.\n",
    "### The Pauli spin operators $X_i,Y_i,Z_i$ acting on $i$-th spin are defined as:\n",
    "### \\begin{equation}\n",
    " \\begin{split}\n",
    " X_i  &= \\mathbb{1}_1\\otimes\\dots\\mathbb{1}_{i-1}\\otimes\\hat{\\sigma}^x\\otimes\\mathbb{1}_{i+1}\\dots\\mathbb{1}_{L},\\\\\n",
    " Y_i  &= \\mathbb{1}_1\\otimes\\dots\\mathbb{1}_{i-1}\\otimes\\hat{\\sigma}^y\\otimes\\mathbb{1}_{i+1}\\dots\\mathbb{1}_{L},\\\\\n",
    " Z_i  &= \\mathbb{1}_1\\otimes\\dots\\mathbb{1}_{i-1}\\otimes\\hat{\\sigma}^z\\otimes\\mathbb{1}_{i+1}\\dots\\mathbb{1}_{L},\n",
    " \\end{split}\n",
    "\\end{equation}\n",
    "### where $\\hat{\\sigma}^{x,y,z}$ are $2\\times2$ Pauli operators.\n",
    "\n",
    "\n",
    "## spin-1/2 $\\equiv$ qubit\n",
    "\n",
    "### In a similar manner we can define Hadamard matrix $H_i$ acting on $i$-th spin, i.e.\n",
    "### \\begin{equation}\n",
    "H_i = \\mathbb{1}_1\\otimes\\dots\\mathbb{1}_{i-1}\\otimes H\\otimes\\mathbb{1}_{i+1}\\dots\\mathbb{1}_{L},\n",
    "\\end{equation}\n",
    "### where $H = \\frac{\\hat{\\sigma}^x + \\hat{\\sigma}^z}{\\sqrt{2}}$."
   ]
  },
  {
   "cell_type": "markdown",
   "id": "0b4a6e0e",
   "metadata": {},
   "source": [
    "## PyTorch implementation"
   ]
  },
  {
   "cell_type": "code",
   "execution_count": null,
   "id": "cd6bde61",
   "metadata": {},
   "outputs": [],
   "source": [
    "import matplotlib.pyplot as plt\n",
    "import torch as pt\n",
    "from torch import matrix_exp as expm\n",
    "from torch.linalg import eigh as eigh\n",
    "import numpy as np"
   ]
  },
  {
   "cell_type": "code",
   "execution_count": null,
   "id": "967192a8",
   "metadata": {},
   "outputs": [],
   "source": [
    "def get_Identity(k):  # returns k-tensor product of the identity operator, ie. Id^k\n",
    "    Id = id_local\n",
    "    for i in range(0, k-1):\n",
    "        Id = pt.kron(Id, id_local)\n",
    "    return Id\n",
    "       \n",
    "def get_chain_operator(A, L, i):\n",
    "    Op = A\n",
    "    if(i == 1):\n",
    "        Op = pt.kron(A,get_Identity(L-1))\n",
    "        return Op\n",
    "    if(i == L):\n",
    "        Op = pt.kron(get_Identity(L-1),A)\n",
    "        return Op\n",
    "    if(i>0 and i<L):\n",
    "        Op = pt.kron(get_Identity(i-1), pt.kron(Op, get_Identity(L-i)))\n",
    "        return Op\n",
    "\n",
    "def get_chain_operators(L):\n",
    "    \n",
    "    Id = get_chain_operator(id_local, L, 1)\n",
    "    X = {}\n",
    "    Y = {}\n",
    "    Z = {}\n",
    "\n",
    "    for qubit_i in range(1, L+1):    # Loop over indices on a 2-dimensional grid (i_x,i_y)\n",
    "        X[qubit_i] = get_chain_operator(sigma_x, L, qubit_i)        # Define operator X_i acting on spin (i_x,i_y)\n",
    "        Y[qubit_i] = get_chain_operator(sigma_y, L, qubit_i)        # Define operator Y_i acting on spin (i_x,i_y)\n",
    "        Z[qubit_i] = get_chain_operator(sigma_z, L, qubit_i)        # Define operator Z_i acting on spin (i_x,i_y)\n",
    "    return Id, X, Y, Z\n",
    "\n",
    "\n",
    "id_local = pt.tensor([[1.,0],[0,1.]])\n",
    "sigma_x = pt.tensor([[0,1.],[1.,0]])\n",
    "sigma_y = 1j*pt.tensor([[0,-1.],[1.,0]])\n",
    "sigma_z = pt.tensor([[1.,0],[0,-1.]])\n",
    "hadamard = 1.0/pt.sqrt(pt.tensor(2))*pt.tensor([[1,1],[1,-1]])+1j*0    \n"
   ]
  },
  {
   "cell_type": "markdown",
   "id": "88d9a44e",
   "metadata": {},
   "source": [
    "## Operators are expressed in the diagonal basis of the $Z = \\sum_{i=1}^{L} Z_i$ operator\n",
    "\n",
    "\n",
    "### \\begin{equation}\n",
    " \\begin{split}\n",
    "   |v_1\\rangle & = |\\uparrow \\uparrow \\dots \\uparrow \\rangle \\\\\n",
    "   |v_2\\rangle & = |\\uparrow \\uparrow \\dots \\downarrow \\rangle \\\\\n",
    "   & \\vdots \\\\\n",
    "   |v_D\\rangle & = |\\downarrow \\downarrow \\dots \\downarrow \\rangle \\\\\n",
    " \\end{split}\n",
    "\\end{equation}\n",
    "\n",
    "### \\begin{equation}\n",
    "\\begin{split}\n",
    "   X & = \\sum_{k,l} <v_k|X|v_l>|v_k\\rangle\\langle v_l| \\\\\n",
    "   Y & = \\sum_{k,l} <v_k|Y|v_l>|v_k\\rangle\\langle v_l| \\\\\n",
    "   Z & = \\sum_{k,l} <v_k|Z|v_l>|v_k\\rangle\\langle v_l| \\delta_{k,l},\n",
    "\\end{split}\n",
    "\\end{equation}\n",
    "\n",
    "## In the following we denote: $\\uparrow \\equiv 1$, $\\downarrow \\equiv -1$.\n",
    "\n",
    "\n",
    "### Let's us construct our spin-$1/2$ chain Hilbert space:"
   ]
  },
  {
   "cell_type": "code",
   "execution_count": null,
   "id": "b7a397bb",
   "metadata": {},
   "outputs": [
    {
     "name": "stdout",
     "output_type": "stream",
     "text": [
      "|v_000> = | 1  1  1  1  1 >\n",
      "|v_001> = | 1  1  1  1 -1 >\n",
      "|v_002> = | 1  1  1 -1  1 >\n",
      "|v_003> = | 1  1  1 -1 -1 >\n",
      "|v_004> = | 1  1 -1  1  1 >\n",
      "|v_005> = | 1  1 -1  1 -1 >\n",
      "|v_006> = | 1  1 -1 -1  1 >\n",
      "|v_007> = | 1  1 -1 -1 -1 >\n",
      "|v_008> = | 1 -1  1  1  1 >\n",
      "|v_009> = | 1 -1  1  1 -1 >\n",
      "|v_010> = | 1 -1  1 -1  1 >\n",
      "|v_011> = | 1 -1  1 -1 -1 >\n",
      "|v_012> = | 1 -1 -1  1  1 >\n",
      "|v_013> = | 1 -1 -1  1 -1 >\n",
      "|v_014> = | 1 -1 -1 -1  1 >\n",
      "|v_015> = | 1 -1 -1 -1 -1 >\n",
      "|v_016> = |-1  1  1  1  1 >\n",
      "|v_017> = |-1  1  1  1 -1 >\n",
      "|v_018> = |-1  1  1 -1  1 >\n",
      "|v_019> = |-1  1  1 -1 -1 >\n",
      "|v_020> = |-1  1 -1  1  1 >\n",
      "|v_021> = |-1  1 -1  1 -1 >\n",
      "|v_022> = |-1  1 -1 -1  1 >\n",
      "|v_023> = |-1  1 -1 -1 -1 >\n",
      "|v_024> = |-1 -1  1  1  1 >\n",
      "|v_025> = |-1 -1  1  1 -1 >\n",
      "|v_026> = |-1 -1  1 -1  1 >\n",
      "|v_027> = |-1 -1  1 -1 -1 >\n",
      "|v_028> = |-1 -1 -1  1  1 >\n",
      "|v_029> = |-1 -1 -1  1 -1 >\n",
      "|v_030> = |-1 -1 -1 -1  1 >\n",
      "|v_031> = |-1 -1 -1 -1 -1 >\n"
     ]
    }
   ],
   "source": [
    "L = 5\n",
    "D = 2**L\n",
    "Id, X, Y, Z = get_chain_operators(L)\n",
    "\n",
    "basis = pt.zeros((D,L)) \n",
    "for v_i in range(0,D):\n",
    "    fock_state = pt.zeros(D) \n",
    "    fock_state[v_i] = 1\n",
    "    for i in range(1,L+1):\n",
    "        basis[v_i,i-1] = pt.vdot(fock_state, Z[i]@fock_state)\n",
    "\n",
    "for v_i in range(0,D):  \n",
    "    string_fock_vector = \"|v_\" + \"{:03d}\".format(v_i) + \"> = |\"\n",
    "    for i in range(1,L+1):\n",
    "        tmp = int(basis[v_i,i-1].item())\n",
    "        if(tmp==1):\n",
    "            string_plus_minus = \" {:1d}\".format(tmp)\n",
    "        if(tmp==-1):\n",
    "            string_plus_minus = \"{:1d}\".format(tmp)\n",
    "            \n",
    "         \n",
    "        string_fock_vector = string_fock_vector + string_plus_minus + \" \"\n",
    "    string_fock_vector = string_fock_vector + \">\"\n",
    "    print(string_fock_vector)"
   ]
  },
  {
   "cell_type": "markdown",
   "id": "7052676e",
   "metadata": {},
   "source": [
    "### The many-body wave-function $|\\psi\\rangle$  decomposed in the Fock basis:\n",
    "\n",
    "### \\begin{equation}\n",
    "|\\psi\\rangle = \\sum_{k} \\psi_k |v_k\\rangle,\n",
    "\\end{equation}\n",
    "### with $\\sum_k |\\psi_k|^2 = 1$.\n",
    "\n",
    "### As such, the state of the system is encoded in a vector:\n",
    "\n",
    "### \\begin{equation}\n",
    "   |\\psi\\rangle    \\Leftrightarrow \\begin{pmatrix} \\psi_1 \\\\ \n",
    "                               \\psi_2 \\\\\n",
    "                               \\vdots \\\\ \n",
    "                               \\psi_D \n",
    "                \\end{pmatrix}\n",
    "\\end{equation}"
   ]
  },
  {
   "cell_type": "markdown",
   "id": "92646cde",
   "metadata": {},
   "source": [
    "### Let's construct a quantum Heisenberg Hamiltonian:\n",
    "\n",
    "### \\begin{equation}\n",
    " \\hat{H} = -\\frac{1}{2}\\sum_i J_x X_iX_{i+1} + J_y Y_iY_{i+1} + J_z Z_iZ_{i+1} + h\\sum_iZ_i\n",
    "\\end{equation}"
   ]
  },
  {
   "cell_type": "code",
   "execution_count": null,
   "id": "c2f1a449",
   "metadata": {},
   "outputs": [],
   "source": [
    "def get_H(parameters):\n",
    "    Jx,Jy,Jz, h = parameters\n",
    "    H = pt.zeros(D,D)\n",
    "    for i in range(1,L):\n",
    "        H = H - Jx/2*X[i]@X[i+1] - Jy/2*Y[i]@Y[i+1] - Jz/2*Z[i]@Z[i+1]\n",
    "    for i in range(1,L+1):\n",
    "        H = H + h*Z[i]\n",
    "    return H"
   ]
  },
  {
   "cell_type": "code",
   "execution_count": null,
   "id": "9240eb36",
   "metadata": {},
   "outputs": [
    {
     "name": "stdout",
     "output_type": "stream",
     "text": [
      "Ground state energy is E_0 = -2.73\n"
     ]
    }
   ],
   "source": [
    "Jx = 1\n",
    "Jy = -1\n",
    "Jz = 0\n",
    "h = 0\n",
    "parameters = [Jx, Jy, Jz, h]\n",
    "H = get_H(parameters)\n",
    "\n",
    "E, P = eigh(H)\n",
    "E_GS = E[0]\n",
    "psi_GS = P[:,0]\n",
    "print(\"Ground state energy is E_0 = \" + \"{:2.2f}\".format(E_GS))"
   ]
  },
  {
   "cell_type": "markdown",
   "id": "d4b44adb",
   "metadata": {},
   "source": [
    "### Let's have a look at groundstate decomposition in a Fock states:"
   ]
  },
  {
   "cell_type": "code",
   "execution_count": null,
   "id": "c53188e4",
   "metadata": {},
   "outputs": [
    {
     "name": "stdout",
     "output_type": "stream",
     "text": [
      "|psi|^2 = \n",
      "0.25 | 1  1  1  1  1 >\n",
      "0.00 | 1  1  1  1 -1 >\n",
      "0.00 | 1  1  1 -1  1 >\n",
      "0.16 | 1  1  1 -1 -1 >\n",
      "0.00 | 1  1 -1  1  1 >\n",
      "0.00 | 1  1 -1  1 -1 >\n",
      "0.08 | 1  1 -1 -1  1 >\n",
      "0.00 | 1  1 -1 -1 -1 >\n",
      "0.00 | 1 -1  1  1  1 >\n",
      "0.01 | 1 -1  1  1 -1 >\n",
      "0.00 | 1 -1  1 -1  1 >\n",
      "0.00 | 1 -1  1 -1 -1 >\n",
      "0.08 | 1 -1 -1  1  1 >\n",
      "0.00 | 1 -1 -1  1 -1 >\n",
      "0.00 | 1 -1 -1 -1  1 >\n",
      "0.08 | 1 -1 -1 -1 -1 >\n",
      "0.00 |-1  1  1  1  1 >\n",
      "0.00 |-1  1  1  1 -1 >\n",
      "0.01 |-1  1  1 -1  1 >\n",
      "0.00 |-1  1  1 -1 -1 >\n",
      "0.00 |-1  1 -1  1  1 >\n",
      "0.00 |-1  1 -1  1 -1 >\n",
      "0.00 |-1  1 -1 -1  1 >\n",
      "0.00 |-1  1 -1 -1 -1 >\n",
      "0.16 |-1 -1  1  1  1 >\n",
      "0.00 |-1 -1  1  1 -1 >\n",
      "0.00 |-1 -1  1 -1  1 >\n",
      "0.08 |-1 -1  1 -1 -1 >\n",
      "0.00 |-1 -1 -1  1  1 >\n",
      "0.00 |-1 -1 -1  1 -1 >\n",
      "0.08 |-1 -1 -1 -1  1 >\n",
      "0.00 |-1 -1 -1 -1 -1 >\n"
     ]
    }
   ],
   "source": [
    "def get_density_decomposition(psi):\n",
    "    rho = pt.abs(psi)**2\n",
    "    print(\"|psi|^2 = \")\n",
    "    for v_i in range(0,D):  \n",
    "        string_fock_vector = \"{:2.2f}\".format(rho[v_i])\n",
    "        string_fock_vector = string_fock_vector + \" |\"\n",
    "        for i in range(1,L+1):\n",
    "            tmp = int(basis[v_i,i-1].item())\n",
    "            if(tmp==1):\n",
    "                string_plus_minus = \" {:1d}\".format(tmp)\n",
    "            if(tmp==-1):\n",
    "                string_plus_minus = \"{:1d}\".format(tmp)\n",
    "\n",
    "\n",
    "            string_fock_vector = string_fock_vector + string_plus_minus + \" \"\n",
    "        string_fock_vector = string_fock_vector + \">\"\n",
    "        \n",
    "        print(string_fock_vector)\n",
    "        \n",
    "get_density_decomposition(P[:,0])        "
   ]
  },
  {
   "cell_type": "markdown",
   "id": "c1551361",
   "metadata": {},
   "source": [
    "# Quantum gates"
   ]
  },
  {
   "cell_type": "markdown",
   "id": "6b7572b3",
   "metadata": {},
   "source": [
    "### We can consider each spin-$1/2$ as a qubit, so it is straightforward to implement quantum gates:"
   ]
  },
  {
   "cell_type": "code",
   "execution_count": null,
   "id": "db504adc",
   "metadata": {},
   "outputs": [],
   "source": [
    "pt.set_printoptions(edgeitems=1, precision=0)\n",
    "L = 2\n",
    "Id, X, Y, Z = get_chain_operators(L)"
   ]
  },
  {
   "attachments": {
    "1000px-Quantum_Logic_Gates.png": {
     "image/png": "[encoded data removed]"
    }
   },
   "cell_type": "markdown",
   "id": "e903535c",
   "metadata": {},
   "source": [
    "![1000px-Quantum_Logic_Gates.png](attachment:1000px-Quantum_Logic_Gates.png)"
   ]
  },
  {
   "cell_type": "markdown",
   "id": "041bf092",
   "metadata": {},
   "source": [
    "## Rotational gates acting on $j$-th qubit\n",
    "### \\begin{equation}\n",
    " \\begin{split}\n",
    " R^x_j(\\theta) = e^{-i\\frac{\\theta}{2} X_j} \\\\\n",
    " R^y_j(\\theta) = e^{-i\\frac{\\theta}{2} Y_j} \\\\\n",
    " R^z_j(\\theta) = e^{-i\\frac{\\theta}{2} Z_j} \\\\\n",
    " \\end{split}\n",
    "\\end{equation}"
   ]
  },
  {
   "cell_type": "code",
   "execution_count": null,
   "id": "b10b8016",
   "metadata": {},
   "outputs": [],
   "source": [
    "def Rx(theta, j):\n",
    "    return expm(-1j*theta/2*X[j])\n",
    "\n",
    "def Ry(theta, j):\n",
    "    return expm(-1j*theta/2*Y[j])\n",
    "\n",
    "def Rz(theta, j):\n",
    "    return expm(-1j*theta/2*Z[j])"
   ]
  },
  {
   "cell_type": "markdown",
   "id": "f13ba62b",
   "metadata": {},
   "source": [
    "## Phase gate\n",
    "\n",
    "### \\begin{equation}\n",
    " P_j(\\theta) = e^{i\\frac{\\theta}{2}}R^z_j(\\theta)\n",
    "\\end{equation}"
   ]
  },
  {
   "cell_type": "markdown",
   "id": "18830562",
   "metadata": {},
   "source": [
    "## Two-qubit gates\n",
    "\n",
    "### CNOT\n",
    "\n",
    "### \\begin{equation}\n",
    " {\\rm CNOT}_{i,j} = e^{i\\frac{\\pi}{4}(\\mathbb{1} - Z[i])(\\mathbb{1}-X[j])}\n",
    "\\end{equation}"
   ]
  },
  {
   "cell_type": "code",
   "execution_count": null,
   "id": "81331b00",
   "metadata": {},
   "outputs": [],
   "source": [
    "def CNOT(i,j):\n",
    "    return  expm(pt.pi/4*(Id - X[i])@(Id - Z[j])*1j) "
   ]
  },
  {
   "cell_type": "code",
   "execution_count": null,
   "id": "7fcf2afc",
   "metadata": {},
   "outputs": [
    {
     "name": "stdout",
     "output_type": "stream",
     "text": [
      "tensor([[1, 0, 0, 0],\n",
      "        [0, 1, 0, 0],\n",
      "        [0, 0, 0, 1],\n",
      "        [0, 0, 1, 0]])\n"
     ]
    }
   ],
   "source": [
    "print(CNOT(2,1).real)"
   ]
  },
  {
   "cell_type": "markdown",
   "id": "847a55ca",
   "metadata": {},
   "source": [
    "### Interaction gate\n",
    "\n",
    "### \\begin{equation}\n",
    " R^{XX}_{i,j}(\\theta) = e^{-i\\frac{\\theta}{2}X_i\\otimes X_j}\n",
    "\\end{equation}\n"
   ]
  },
  {
   "cell_type": "code",
   "execution_count": null,
   "id": "fe89f24c",
   "metadata": {},
   "outputs": [],
   "source": [
    "def RXX(i,j,theta):\n",
    "    return expm(-theta/2*X[i]@X[j]*1j)"
   ]
  },
  {
   "cell_type": "code",
   "execution_count": null,
   "id": "f62ad1d2",
   "metadata": {},
   "outputs": [
    {
     "name": "stdout",
     "output_type": "stream",
     "text": [
      "tensor([[1+0j, 0+0j, 0+0j, 0-1j],\n",
      "        [0+0j, 1+0j, 0-1j, 0+0j],\n",
      "        [0+0j, 0-1j, 1+0j, 0+0j],\n",
      "        [0-1j, 0+0j, 0+0j, 1+0j]])\n"
     ]
    }
   ],
   "source": [
    "print(RXX(1,2,pt.pi/2))"
   ]
  },
  {
   "cell_type": "markdown",
   "id": "9d3b3799",
   "metadata": {},
   "source": [
    "### SWAP gate\n",
    "\n",
    "### \\begin{equation}\n",
    "{\\rm SWAP}_{ij} = \\frac{1}{2}(\\mathbb{1}\\otimes\\mathbb{1} + X_i\\otimes X_j + Y_i\\otimes Y_j + Z_i\\otimes Z_j)\n",
    "\\end{equation}"
   ]
  },
  {
   "cell_type": "code",
   "execution_count": null,
   "id": "d05a41f9",
   "metadata": {},
   "outputs": [],
   "source": [
    "def SWAP(i,j):\n",
    "    return 0.5*(Id@Id + X[i]@X[j] + Y[i]@Y[j] + Z[i]@Z[j])"
   ]
  },
  {
   "cell_type": "code",
   "execution_count": null,
   "id": "934690c4",
   "metadata": {},
   "outputs": [
    {
     "name": "stdout",
     "output_type": "stream",
     "text": [
      "tensor([[1., 0., 0., 0.],\n",
      "        [0., 0., 1., 0.],\n",
      "        [0., 1., 0., 0.],\n",
      "        [0., 0., 0., 1.]])\n"
     ]
    }
   ],
   "source": [
    "print(SWAP(1,2).real)"
   ]
  },
  {
   "cell_type": "markdown",
   "id": "98b7825e",
   "metadata": {},
   "source": [
    "## Three-qubits gate\n",
    "\n",
    "### Toffoli gate\n",
    "\n",
    "### \\begin{equation}\n",
    " {\\rm Toff}_{ijk} = e^{-i\\frac{\\pi}{8}(\\mathbb{1} - Z_i)(\\mathbb{1} - Z_j)(\\mathbb{1} - X_k)}\n",
    "\\end{equation}"
   ]
  },
  {
   "cell_type": "code",
   "execution_count": null,
   "id": "512da9f1",
   "metadata": {},
   "outputs": [],
   "source": [
    "def Toff(i,j,k):\n",
    "    return expm(pt.pi/8*(Id - Z[i])@(Id - Z[j])@(Id - X[k])*1j)"
   ]
  },
  {
   "cell_type": "code",
   "execution_count": null,
   "id": "d200b070",
   "metadata": {},
   "outputs": [
    {
     "name": "stdout",
     "output_type": "stream",
     "text": [
      "tensor([[1, 0, 0, 0, 0, 0, 0, 0],\n",
      "        [0, 1, 0, 0, 0, 0, 0, 0],\n",
      "        [0, 0, 1, 0, 0, 0, 0, 0],\n",
      "        [0, 0, 0, 1, 0, 0, 0, 0],\n",
      "        [0, 0, 0, 0, 1, 0, 0, 0],\n",
      "        [0, 0, 0, 0, 0, 1, 0, 0],\n",
      "        [0, 0, 0, 0, 0, 0, 0, 1],\n",
      "        [0, 0, 0, 0, 0, 0, 1, 0]])\n"
     ]
    }
   ],
   "source": [
    "L = 3\n",
    "Id, X, Y, Z = get_chain_operators(L)\n",
    "print(Toff(1,2,3).real)"
   ]
  }
 ],
 "metadata": {
  "kernelspec": {
   "display_name": "Python 3 (ipykernel)",
   "language": "python",
   "name": "python3"
  }
 },
 "nbformat": 4,
 "nbformat_minor": 5
}
